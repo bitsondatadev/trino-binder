{
 "cells": [
  {
   "cell_type": "markdown",
   "id": "18c4ac71-59f2-4496-bb95-7745dbb144ea",
   "metadata": {},
   "source": [
    "# Trino Quickstart\n",
    "\n",
    "Welcome to the Trino quick start. [Trino](https://trino.io)([formerly PrestoSQL](https://trino.io/blog/2020/12/27/announcing-trino.html)) is one of the fastest state-of-the-art distributed SQL query engine that can query data from data warehouses, data lakes, and a whole [array of other data sources](https://trino.io/docs/current/connector.html).\n",
    "\n",
    "This binder serves as a quick way to get started with Trino by using the incredible [MyBinder Service](https://mybinder.readthedocs.io/en/latest/about/about.html) funded by companies in the [BinderHub Federation](https://mybinder.readthedocs.io/en/latest/about/federation.html). This binder uses [trino-notebook](https://github.com/bitsondatadev/trino-notebook), which extends the [Jupyter SciPy Notebook](https://github.com/jupyter/docker-stacks/tree/master/scipy-notebook). This enables us to not only showcase Trino's use cases, but also enables us to connect the foundational use cases of Trino to their upstream data science and upstream analytics use cases.\n",
    "\n",
    "\n",
    "## Run Trino\n",
    "The first step is to have a running instance of Trino. A simple script to launch Trino is provided. Give Trino about 20-30 seconds to start."
   ]
  },
  {
   "cell_type": "code",
   "execution_count": 1,
   "id": "b112ae8d-339d-41bf-b8c8-1b7c66a814a7",
   "metadata": {},
   "outputs": [
    {
     "name": "stdout",
     "output_type": "stream",
     "text": [
      "+ set +e\n",
      "+ grep -s -q node.id /etc/trino/node.properties\n",
      "+ NODE_ID_EXISTS=1\n",
      "+ set -e\n",
      "+ NODE_ID=\n",
      "+ [[ 1 != 0 ]]\n",
      "+ NODE_ID=-Dnode.id=f6a7bb669106\n",
      "+ exec /usr/lib/trino/bin/launcher start --etc-dir /etc/trino -Dnode.id=f6a7bb669106\n",
      "Started as 2192\n"
     ]
    }
   ],
   "source": [
    "!~/run-trino"
   ]
  },
  {
   "cell_type": "markdown",
   "id": "23b9b13c-c722-4f03-968e-0cbdaf6b5550",
   "metadata": {},
   "source": [
    "## Trino CLI Client\n",
    "\n",
    "Once Trino is running, we can first run queries via the Trino CLI."
   ]
  },
  {
   "cell_type": "code",
   "execution_count": 3,
   "id": "e15b7122-1787-4c13-bf02-aed62a54c1dc",
   "metadata": {},
   "outputs": [
    {
     "name": "stdout",
     "output_type": "stream",
     "text": [
      "\"system\"\n",
      "\"tpcds\"\n",
      "\"tpch\"\n"
     ]
    }
   ],
   "source": [
    "!trino --execute 'SHOW CATALOGS'"
   ]
  },
  {
   "cell_type": "code",
   "execution_count": 5,
   "id": "d88bfc85-b01e-4194-bc53-6023b15705a0",
   "metadata": {},
   "outputs": [
    {
     "name": "stdout",
     "output_type": "stream",
     "text": [
      "\"information_schema\"\n",
      "\"sf1\"\n",
      "\"sf100\"\n",
      "\"sf1000\"\n",
      "\"sf10000\"\n",
      "\"sf100000\"\n",
      "\"sf300\"\n",
      "\"sf3000\"\n",
      "\"sf30000\"\n",
      "\"tiny\"\n"
     ]
    }
   ],
   "source": [
    "!trino --execute 'SHOW SCHEMAS IN tpch'"
   ]
  },
  {
   "cell_type": "code",
   "execution_count": 6,
   "id": "22b82449-0432-4e40-aad7-c66cda164d76",
   "metadata": {},
   "outputs": [
    {
     "name": "stdout",
     "output_type": "stream",
     "text": [
      "\"customer\"\n",
      "\"lineitem\"\n",
      "\"nation\"\n",
      "\"orders\"\n",
      "\"part\"\n",
      "\"partsupp\"\n",
      "\"region\"\n",
      "\"supplier\"\n"
     ]
    }
   ],
   "source": [
    "!trino --execute 'SHOW TABLES IN tpch.tiny'"
   ]
  },
  {
   "cell_type": "code",
   "execution_count": 8,
   "id": "5b18bfe8-ff5b-48d1-9ccc-a526595680f5",
   "metadata": {},
   "outputs": [
    {
     "name": "stdout",
     "output_type": "stream",
     "text": [
      "\"1126\",\"Customer#000001126\",\"8J bzLWboPqySAWPgHrl4IK4roBvb\",\"8\",\"18-898-994-6389\",\"3905.97\",\"AUTOMOBILE\",\"se carefully asymptotes. unusual accounts use slyly deposits; slyly regular pi\"\n",
      "\"1127\",\"Customer#000001127\",\"nq1w3VhKie4I3ZquEIZuz1 5CWn\",\"10\",\"20-830-875-6204\",\"8631.35\",\"AUTOMOBILE\",\"endencies. express instructions wake about th\"\n",
      "\"1128\",\"Customer#000001128\",\"72XUL0qb4,NLmfyrtzyJlR0eP\",\"0\",\"10-392-200-8982\",\"8123.99\",\"BUILDING\",\"odolites according to the regular courts detect quickly furiously pending foxes? unusual theodolites use p\"\n",
      "\"1129\",\"Customer#000001129\",\"OMEqYv,hhyBAObDjIkoPL03BvuSRw02AuDPVoe\",\"8\",\"18-313-585-9420\",\"6020.02\",\"HOUSEHOLD\",\"pades affix realms. pending courts haggle slowly fluffily final requests. quickly silent deposits are. iro\"\n",
      "\"1130\",\"Customer#000001130\",\"60zzrBpFXjvHzyv0WObH3h8LhYbOaRID58e\",\"22\",\"32-503-721-8203\",\"9519.36\",\"HOUSEHOLD\",\"s requests nag silently carefully special warhorses. special accounts hinder slyly. fluffily enticing\"\n"
     ]
    }
   ],
   "source": [
    "!trino --execute 'SELECT * FROM tpch.tiny.customer LIMIT 5'"
   ]
  },
  {
   "cell_type": "markdown",
   "id": "93a09efe-08a2-4685-b8db-3062807516a4",
   "metadata": {},
   "source": [
    "## Trino Python Library (SQLAlchemy)\n",
    "\n",
    "Trino also supports [a Python library](https://github.com/trinodb/trino-python-client) that uses both the dbapi and SQLAlchemy. For this, we are using the SQLAlchemy flavor."
   ]
  },
  {
   "cell_type": "code",
   "execution_count": 16,
   "id": "4e05722f-28ff-48ba-b6a7-95757b650e0c",
   "metadata": {},
   "outputs": [
    {
     "name": "stdout",
     "output_type": "stream",
     "text": [
      "(1, 'Customer#000000001', 'IVhzIApeRb ot,c,E', 15, '25-989-741-2988', 711.56, 'BUILDING', 'to the even, regular platelets. regular, ironic epitaphs nag e')\n",
      "(2, 'Customer#000000002', 'XSTf4,NCwDVaWNe6tEgvwfmRchLXak', 13, '23-768-687-3665', 121.65, 'AUTOMOBILE', 'l accounts. blithely ironic theodolites integrate boldly: caref')\n",
      "(3, 'Customer#000000003', 'MG9kdTD2WBHm', 1, '11-719-748-3364', 7498.12, 'AUTOMOBILE', ' deposits eat slyly ironic, even instructions. express foxes detect slyly. blithely even accounts abov')\n",
      "(4, 'Customer#000000004', 'XxVSJsLAGtn', 4, '14-128-190-5944', 2866.83, 'MACHINERY', ' requests. final, regular ideas sleep final accou')\n",
      "(5, 'Customer#000000005', 'KvpyuHCplrB84WgAiGV6sYpZq7Tj', 3, '13-750-942-6364', 794.47, 'HOUSEHOLD', 'n accounts will have to unwind. foxes cajole accor')\n"
     ]
    }
   ],
   "source": [
    "from sqlalchemy import create_engine\n",
    "from sqlalchemy.sql.expression import text\n",
    "\n",
    "engine = create_engine('trino://jovyan@localhost:8080/tpch')\n",
    "connection = engine.connect()\n",
    "\n",
    "rows = connection.execute(text(\"SELECT * FROM tiny.customer LIMIT 5\"))\n",
    "for r in rows:\n",
    "    print(r)"
   ]
  },
  {
   "cell_type": "code",
   "execution_count": 19,
   "id": "2131293c-0ea1-454e-a16e-5dd60e715294",
   "metadata": {},
   "outputs": [
    {
     "name": "stdout",
     "output_type": "stream",
     "text": [
      "(1, 'Customer#000000001', 'IVhzIApeRb ot,c,E', 15, '25-989-741-2988', 711.56, 'BUILDING', 'to the even, regular platelets. regular, ironic epitaphs nag e')\n",
      "(2, 'Customer#000000002', 'XSTf4,NCwDVaWNe6tEgvwfmRchLXak', 13, '23-768-687-3665', 121.65, 'AUTOMOBILE', 'l accounts. blithely ironic theodolites integrate boldly: caref')\n",
      "(3, 'Customer#000000003', 'MG9kdTD2WBHm', 1, '11-719-748-3364', 7498.12, 'AUTOMOBILE', ' deposits eat slyly ironic, even instructions. express foxes detect slyly. blithely even accounts abov')\n",
      "(4, 'Customer#000000004', 'XxVSJsLAGtn', 4, '14-128-190-5944', 2866.83, 'MACHINERY', ' requests. final, regular ideas sleep final accou')\n",
      "(5, 'Customer#000000005', 'KvpyuHCplrB84WgAiGV6sYpZq7Tj', 3, '13-750-942-6364', 794.47, 'HOUSEHOLD', 'n accounts will have to unwind. foxes cajole accor')\n"
     ]
    }
   ],
   "source": [
    "from sqlalchemy.schema import Table, MetaData\n",
    "from sqlalchemy.sql.expression import select\n",
    "\n",
    "engine = create_engine('trino://jovyan@localhost:8080/tpch')\n",
    "\n",
    "# or using SQLAlchemy schema\n",
    "nodes = Table(\n",
    "    'customer',\n",
    "    MetaData(schema='tiny'),\n",
    "    autoload=True,\n",
    "    autoload_with=engine\n",
    ")\n",
    "rows = connection.execute(select(nodes).limit(5)).fetchall()\n",
    "for r in rows:\n",
    "    print(r)"
   ]
  },
  {
   "cell_type": "code",
   "execution_count": 25,
   "id": "5d2f6ed9-727c-4cdc-9fb7-67e6d8220e7b",
   "metadata": {},
   "outputs": [
    {
     "name": "stderr",
     "output_type": "stream",
     "text": [
      "/opt/conda/lib/python3.9/site-packages/trino/sqlalchemy/dialect.py:286: SAWarning: Dialect trino:rest will not make use of SQL compilation caching as it does not set the 'supports_statement_cache' attribute to ``True``.  This can have significant performance implications including some performance degradations in comparison to prior SQLAlchemy versions.  Dialect maintainers should seek to set this attribute to True after appropriate development and testing for SQLAlchemy 1.4 caching support.   Alternatively, this attribute may be set to False which will disable this warning. (Background on this error at: https://sqlalche.me/e/14/cprf)\n",
      "  res = connection.execute(sql.text(query))\n"
     ]
    },
    {
     "data": {
      "image/png": "[encoded data removed]",
      "text/plain": [
       "<Figure size 640x480 with 1 Axes>"
      ]
     },
     "metadata": {},
     "output_type": "display_data"
    }
   ],
   "source": [
    "import matplotlib.pyplot as plt; plt.rcdefaults()\n",
    "import numpy as np\n",
    "import matplotlib.pyplot as plt\n",
    "\n",
    "from sqlalchemy import create_engine\n",
    "from sqlalchemy.sql.expression import text\n",
    "\n",
    "engine = create_engine('trino://jovyan@localhost:8080/tpch')\n",
    "connection = engine.connect()\n",
    "\n",
    "rows = connection.execute(text(\"SELECT mktsegment, COUNT(*) FROM tiny.customer GROUP BY mktsegment\"))\n",
    "objects = []\n",
    "performance = []\n",
    "for r in rows:\n",
    "    objects.append(r[0])\n",
    "    performance.append(r[1])\n",
    "\n",
    "y_pos = np.arange(len(objects))\n",
    "\n",
    "plt.bar(y_pos, performance, align='center', alpha=0.5)\n",
    "plt.xticks(y_pos, objects)\n",
    "plt.ylabel('Count')\n",
    "plt.title('Marketing Segment Count')\n",
    "\n",
    "plt.show()"
   ]
  },
  {
   "cell_type": "code",
   "execution_count": null,
   "id": "cb508427-eb83-49b2-b415-637b3bd8d32b",
   "metadata": {},
   "outputs": [],
   "source": []
  }
 ],
 "metadata": {
  "kernelspec": {
   "display_name": "Python 3 (ipykernel)",
   "language": "python",
   "name": "python3"
  },
  "language_info": {
   "codemirror_mode": {
    "name": "ipython",
    "version": 3
   },
   "file_extension": ".py",
   "mimetype": "text/x-python",
   "name": "python",
   "nbconvert_exporter": "python",
   "pygments_lexer": "ipython3",
   "version": "3.9.10"
  }
 },
 "nbformat": 4,
 "nbformat_minor": 5
}
